{
 "cells": [
  {
   "cell_type": "code",
   "execution_count": 3,
   "metadata": {},
   "outputs": [],
   "source": [
    "# export model to onnx format without weights and biases\n",
    "\n",
    "import sys\n",
    "sys.path.insert(0, '../src') # to be able to import functions from src\n",
    "\n",
    "import torch\n",
    "from unet import *\n",
    "\n",
    "# network hyperparameters\n",
    "n_feat = 64 # 64 hidden dimension feature\n",
    "n_cfeat = 5 # context vector is of size 5\n",
    "height = 16 # 16x16 image\n",
    "in_channels=3 # rgb\n",
    "\n",
    "m = ContextUnet(in_channels, n_feat=n_feat, n_cfeat=n_cfeat, height=height)\n",
    "samples = torch.randn(9, 3, height, height) \n",
    "t = torch.tensor([1 / 500])[:, None, None, None]\n",
    "torch.onnx.export(m,         # model being run \n",
    "         (samples, t),       # model input (or a tuple for multiple inputs) \n",
    "         \"mymodel.onnx\",       # where to save the model  \n",
    "         export_params=True,  # store the trained parameter weights inside the model file \n",
    "         opset_version=10,    # the ONNX version to export the model to \n",
    "         do_constant_folding=True,  # whether to execute constant folding for optimization \n",
    "         input_names = ['samples', 'timestamp'],   # the model's input names \n",
    "         output_names = ['modelOutput'], # the model's output names \n",
    ") \n",
    "\n",
    "import onnx\n",
    "onnx_model = onnx.load(\"context_unet.onnx\")\n",
    "onnx.checker.check_model(onnx_model)"
   ]
  }
 ],
 "metadata": {
  "kernelspec": {
   "display_name": "pytorch2",
   "language": "python",
   "name": "python3"
  },
  "language_info": {
   "codemirror_mode": {
    "name": "ipython",
    "version": 3
   },
   "file_extension": ".py",
   "mimetype": "text/x-python",
   "name": "python",
   "nbconvert_exporter": "python",
   "pygments_lexer": "ipython3",
   "version": "3.12.5"
  }
 },
 "nbformat": 4,
 "nbformat_minor": 2
}
